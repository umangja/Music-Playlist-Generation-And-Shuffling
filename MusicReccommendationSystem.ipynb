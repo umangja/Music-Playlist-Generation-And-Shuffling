{
  "nbformat": 4,
  "nbformat_minor": 0,
  "metadata": {
    "colab": {
      "name": "MusicReccommendationSystem",
      "provenance": [],
      "collapsed_sections": [
        "8Zuyj-LFUSWQ",
        "N2HBtMbBu-_8",
        "Ts-WRbqPRgtC",
        "dK8euFRAX426",
        "RCDVZ8fuRzHe",
        "7CBexkF7SIu4",
        "pvH64tGqU7ow",
        "gsiKaIEfSgsv",
        "IyBpOpBKTex1",
        "IsYlJmsihyJL",
        "4ewDAb_2jI4L",
        "EXZf-zQwiX29",
        "0Fjs1VmtjZTh",
        "-b5BS7bHrDCv",
        "hqQP_NgYvQMs",
        "RoL9PrwYvbrB"
      ],
      "include_colab_link": true
    },
    "kernelspec": {
      "name": "python3",
      "display_name": "Python 3"
    },
    "accelerator": "GPU"
  },
  "cells": [
    {
      "cell_type": "markdown",
      "metadata": {
        "id": "view-in-github",
        "colab_type": "text"
      },
      "source": [
        "<a href=\"https://colab.research.google.com/github/umangja/Music-Playlist-Generation-And-Shuffling/blob/master/MusicReccommendationSystem.ipynb\" target=\"_parent\"><img src=\"https://colab.research.google.com/assets/colab-badge.svg\" alt=\"Open In Colab\"/></a>"
      ]
    },
    {
      "cell_type": "markdown",
      "metadata": {
        "id": "GN2NhWSMwBVj",
        "colab_type": "text"
      },
      "source": [
        "# **Important Note**\n",
        "\n",
        "1. First of all mount your G drive to colab.\n",
        "\n",
        "2. Then upload data file on your gdrive.\n",
        "\n",
        "3. Define path file address accordingly.\n",
        "\n"
      ]
    },
    {
      "cell_type": "markdown",
      "metadata": {
        "id": "8Zuyj-LFUSWQ",
        "colab_type": "text"
      },
      "source": [
        "#**Mounting Gdrive**"
      ]
    },
    {
      "cell_type": "code",
      "metadata": {
        "id": "B9qPdeBCD5r-",
        "colab_type": "code",
        "outputId": "8916eff4-345f-4c0f-e0e8-77164b71dfd8",
        "colab": {
          "base_uri": "https://localhost:8080/",
          "height": 122
        }
      },
      "source": [
        "from google.colab import drive\n",
        "drive.mount('/content/drive')"
      ],
      "execution_count": 0,
      "outputs": [
        {
          "output_type": "stream",
          "text": [
            "Go to this URL in a browser: https://accounts.google.com/o/oauth2/auth?client_id=947318989803-6bn6qk8qdgf4n4g3pfee6491hc0brc4i.apps.googleusercontent.com&redirect_uri=urn%3aietf%3awg%3aoauth%3a2.0%3aoob&response_type=code&scope=email%20https%3a%2f%2fwww.googleapis.com%2fauth%2fdocs.test%20https%3a%2f%2fwww.googleapis.com%2fauth%2fdrive%20https%3a%2f%2fwww.googleapis.com%2fauth%2fdrive.photos.readonly%20https%3a%2f%2fwww.googleapis.com%2fauth%2fpeopleapi.readonly\n",
            "\n",
            "Enter your authorization code:\n",
            "··········\n",
            "Mounted at /content/drive\n"
          ],
          "name": "stdout"
        }
      ]
    },
    {
      "cell_type": "markdown",
      "metadata": {
        "id": "N2HBtMbBu-_8",
        "colab_type": "text"
      },
      "source": [
        "# **Installing Required Libs**"
      ]
    },
    {
      "cell_type": "code",
      "metadata": {
        "id": "ZNoMy7WUQRu1",
        "colab_type": "code",
        "outputId": "1b7f1249-953b-4470-f5a0-c01ad1f072bd",
        "colab": {
          "base_uri": "https://localhost:8080/",
          "height": 85
        }
      },
      "source": [
        "!pip3 install fuzzywuzzy"
      ],
      "execution_count": 0,
      "outputs": [
        {
          "output_type": "stream",
          "text": [
            "Collecting fuzzywuzzy\n",
            "  Downloading https://files.pythonhosted.org/packages/43/ff/74f23998ad2f93b945c0309f825be92e04e0348e062026998b5eefef4c33/fuzzywuzzy-0.18.0-py2.py3-none-any.whl\n",
            "Installing collected packages: fuzzywuzzy\n",
            "Successfully installed fuzzywuzzy-0.18.0\n"
          ],
          "name": "stdout"
        }
      ]
    },
    {
      "cell_type": "markdown",
      "metadata": {
        "id": "Ts-WRbqPRgtC",
        "colab_type": "text"
      },
      "source": [
        "# **Import Libs**"
      ]
    },
    {
      "cell_type": "code",
      "metadata": {
        "id": "cRLnvuwn7joZ",
        "colab_type": "code",
        "outputId": "a756b4f2-6161-4989-f549-8fd54e60e104",
        "colab": {
          "base_uri": "https://localhost:8080/",
          "height": 51
        }
      },
      "source": [
        "import pandas as pd\n",
        "from scipy.spatial.distance import cosine\n",
        "import numpy as np\n",
        "from scipy.sparse import csr_matrix\n",
        "from  sklearn.neighbors import NearestNeighbors\n",
        "from scipy.sparse import csr_matrix\n",
        "import  string\n",
        "from fuzzywuzzy import fuzz\n"
      ],
      "execution_count": 0,
      "outputs": [
        {
          "output_type": "stream",
          "text": [
            "/usr/local/lib/python3.6/dist-packages/fuzzywuzzy/fuzz.py:11: UserWarning: Using slow pure-python SequenceMatcher. Install python-Levenshtein to remove this warning\n",
            "  warnings.warn('Using slow pure-python SequenceMatcher. Install python-Levenshtein to remove this warning')\n"
          ],
          "name": "stderr"
        }
      ]
    },
    {
      "cell_type": "markdown",
      "metadata": {
        "id": "dK8euFRAX426",
        "colab_type": "text"
      },
      "source": [
        "# **Setting Default Value**"
      ]
    },
    {
      "cell_type": "code",
      "metadata": {
        "id": "8gUpjr58YAvK",
        "colab_type": "code",
        "colab": {}
      },
      "source": [
        "pd.set_option('display.max_rows', 500)\n",
        "pd.set_option('display.max_columns', 500)\n",
        "pd.set_option('display.width', 1000)"
      ],
      "execution_count": 0,
      "outputs": []
    },
    {
      "cell_type": "markdown",
      "metadata": {
        "id": "RCDVZ8fuRzHe",
        "colab_type": "text"
      },
      "source": [
        "# **Defining Path Variable**"
      ]
    },
    {
      "cell_type": "code",
      "metadata": {
        "id": "JWQG0IwL78PV",
        "colab_type": "code",
        "colab": {}
      },
      "source": [
        "usersha1_artmbid_artname_plays_path = \"/content/drive/My Drive/lastfm-dataset-360K/usersha1-artmbid-artname-plays.tsv\"\n",
        "usersha1_profile_path               = \"/content/drive/My Drive/lastfm-dataset-360K/usersha1-profile.tsv\"\n",
        "CSR_save_file_name                  = \"first.npz\""
      ],
      "execution_count": 0,
      "outputs": []
    },
    {
      "cell_type": "markdown",
      "metadata": {
        "id": "7CBexkF7SIu4",
        "colab_type": "text"
      },
      "source": [
        "# **Importing last.fm dataset**"
      ]
    },
    {
      "cell_type": "code",
      "metadata": {
        "id": "D8vNkRxFRdAB",
        "colab_type": "code",
        "colab": {}
      },
      "source": [
        "user_data = pd.read_table(usersha1_artmbid_artname_plays_path,\n",
        "                          header = None, nrows = 2e7,\n",
        "                          names = ['users', 'musicbrainz-artist-id', 'artist-name', 'plays'],\n",
        "                          usecols = ['users', 'artist-name', 'plays'])\n",
        "\n",
        "user_profiles = pd.read_table(usersha1_profile_path  ,\n",
        "                          header = None,\n",
        "                          names = ['users', 'gender', 'age', 'country', 'signup'],\n",
        "                          usecols = ['users', 'country'])\n"
      ],
      "execution_count": 0,
      "outputs": []
    },
    {
      "cell_type": "markdown",
      "metadata": {
        "id": "pvH64tGqU7ow",
        "colab_type": "text"
      },
      "source": [
        "# **Printing dataset**"
      ]
    },
    {
      "cell_type": "code",
      "metadata": {
        "id": "3EB8b4MbVH-z",
        "colab_type": "code",
        "outputId": "ce74bcf4-b85d-4f14-ae9b-37dadedf29ce",
        "colab": {
          "base_uri": "https://localhost:8080/",
          "height": 544
        }
      },
      "source": [
        "print(user_data)\n",
        "print(\"\\n\\n\")\n",
        "print(user_profiles)"
      ],
      "execution_count": 0,
      "outputs": [
        {
          "output_type": "stream",
          "text": [
            "                                             users           artist-name  plays\n",
            "0         00000c289a1829a808ac09c00daf10bc3c4e223b       betty blowtorch   2137\n",
            "1         00000c289a1829a808ac09c00daf10bc3c4e223b             die Ärzte   1099\n",
            "2         00000c289a1829a808ac09c00daf10bc3c4e223b     melissa etheridge    897\n",
            "3         00000c289a1829a808ac09c00daf10bc3c4e223b             elvenking    717\n",
            "4         00000c289a1829a808ac09c00daf10bc3c4e223b  juliette & the licks    706\n",
            "...                                            ...                   ...    ...\n",
            "17535650                              sep 20, 2008            turbostaat     12\n",
            "17535651                              sep 20, 2008         cuba missouri     11\n",
            "17535652                              sep 20, 2008       little man tate     11\n",
            "17535653                              sep 20, 2008             sigur rós     10\n",
            "17535654                              sep 20, 2008            the smiths     10\n",
            "\n",
            "[17535655 rows x 3 columns]\n",
            "\n",
            "\n",
            "\n",
            "                                           users             country\n",
            "0       00000c289a1829a808ac09c00daf10bc3c4e223b             Germany\n",
            "1       00001411dc427966b17297bf4d69e7e193135d89              Canada\n",
            "2       00004d2ac9316e22dc007ab2243d6fcb239e707d             Germany\n",
            "3       000063d3fe1cf2ba248b9e3c3f0334845a27a6bf              Mexico\n",
            "4       00007a47085b9aab8af55f52ec8846ac479ac4fe       United States\n",
            "...                                          ...                 ...\n",
            "359342  fffe7823f67b433b45f22056467db921c1d3d7d0             Germany\n",
            "359343  fffe8637bd8234309e871409c7ebef99a720afc1              Brazil\n",
            "359344  fffe8c7f952d9b960a56ed4dcb40a415d924b224       United States\n",
            "359345  ffff9af9ae04d263dae91cb838b1f3a6725f5ffb  Russian Federation\n",
            "359346  ffff9ef87a7d9494ada2f9ade4b9ff637c0759ac             Belgium\n",
            "\n",
            "[359347 rows x 2 columns]\n"
          ],
          "name": "stdout"
        }
      ]
    },
    {
      "cell_type": "markdown",
      "metadata": {
        "id": "gsiKaIEfSgsv",
        "colab_type": "text"
      },
      "source": [
        "# **Removing very unpopular artists**\n",
        "removing all those rows from which contain null value at artist-name column\n"
      ]
    },
    {
      "cell_type": "code",
      "metadata": {
        "id": "7bNwXZHdSECU",
        "colab_type": "code",
        "colab": {}
      },
      "source": [
        "if user_data['artist-name'].isnull().sum() > 0: user_data = user_data.dropna(axis = 0, subset = ['artist-name'])"
      ],
      "execution_count": 0,
      "outputs": []
    },
    {
      "cell_type": "markdown",
      "metadata": {
        "id": "IyBpOpBKTex1",
        "colab_type": "text"
      },
      "source": [
        "#**Some more modification**"
      ]
    },
    {
      "cell_type": "code",
      "metadata": {
        "id": "Js3wjK0FSWym",
        "colab_type": "code",
        "colab": {}
      },
      "source": [
        "artist_plays = (user_data.\n",
        "     groupby(by = ['artist-name'])['plays'].\n",
        "     sum().\n",
        "     reset_index().\n",
        "     rename(columns = {'plays': 'total_artist_plays'})\n",
        "     [['artist-name', 'total_artist_plays']]\n",
        "    )\n",
        "\n",
        "# print(artist_plays)\n"
      ],
      "execution_count": 0,
      "outputs": []
    },
    {
      "cell_type": "markdown",
      "metadata": {
        "id": "xQDOIQODgNSx",
        "colab_type": "text"
      },
      "source": [
        "**Merging user data with artist play**"
      ]
    },
    {
      "cell_type": "code",
      "metadata": {
        "id": "QrxTudPgV_66",
        "colab_type": "code",
        "colab": {}
      },
      "source": [
        "user_data_with_artist_plays = user_data.merge(artist_plays, left_on = 'artist-name', right_on = 'artist-name', how = 'left')\n",
        "\n",
        "# print(user_data_with_artist_plays.head())"
      ],
      "execution_count": 0,
      "outputs": []
    },
    {
      "cell_type": "markdown",
      "metadata": {
        "id": "XNbv70SygTQm",
        "colab_type": "text"
      },
      "source": [
        "**user data for popular artist**"
      ]
    },
    {
      "cell_type": "code",
      "metadata": {
        "id": "w5oWelEAgJqQ",
        "colab_type": "code",
        "outputId": "ea70464f-008a-49d6-c58b-aef5ed562abe",
        "colab": {
          "base_uri": "https://localhost:8080/",
          "height": 204
        }
      },
      "source": [
        "#artist popularity threshold (change as per pref)\n",
        "popularity_threshold = 100000\n",
        "user_data_popular_artists = user_data_with_artist_plays.query('total_artist_plays >= @popularity_threshold')\n",
        "user_data_popular_artists.head()"
      ],
      "execution_count": 0,
      "outputs": [
        {
          "output_type": "execute_result",
          "data": {
            "text/html": [
              "<div>\n",
              "<style scoped>\n",
              "    .dataframe tbody tr th:only-of-type {\n",
              "        vertical-align: middle;\n",
              "    }\n",
              "\n",
              "    .dataframe tbody tr th {\n",
              "        vertical-align: top;\n",
              "    }\n",
              "\n",
              "    .dataframe thead th {\n",
              "        text-align: right;\n",
              "    }\n",
              "</style>\n",
              "<table border=\"1\" class=\"dataframe\">\n",
              "  <thead>\n",
              "    <tr style=\"text-align: right;\">\n",
              "      <th></th>\n",
              "      <th>users</th>\n",
              "      <th>artist-name</th>\n",
              "      <th>plays</th>\n",
              "      <th>total_artist_plays</th>\n",
              "    </tr>\n",
              "  </thead>\n",
              "  <tbody>\n",
              "    <tr>\n",
              "      <th>1</th>\n",
              "      <td>00000c289a1829a808ac09c00daf10bc3c4e223b</td>\n",
              "      <td>die Ärzte</td>\n",
              "      <td>1099</td>\n",
              "      <td>3704875</td>\n",
              "    </tr>\n",
              "    <tr>\n",
              "      <th>2</th>\n",
              "      <td>00000c289a1829a808ac09c00daf10bc3c4e223b</td>\n",
              "      <td>melissa etheridge</td>\n",
              "      <td>897</td>\n",
              "      <td>180391</td>\n",
              "    </tr>\n",
              "    <tr>\n",
              "      <th>3</th>\n",
              "      <td>00000c289a1829a808ac09c00daf10bc3c4e223b</td>\n",
              "      <td>elvenking</td>\n",
              "      <td>717</td>\n",
              "      <td>410725</td>\n",
              "    </tr>\n",
              "    <tr>\n",
              "      <th>5</th>\n",
              "      <td>00000c289a1829a808ac09c00daf10bc3c4e223b</td>\n",
              "      <td>red hot chili peppers</td>\n",
              "      <td>691</td>\n",
              "      <td>13547741</td>\n",
              "    </tr>\n",
              "    <tr>\n",
              "      <th>7</th>\n",
              "      <td>00000c289a1829a808ac09c00daf10bc3c4e223b</td>\n",
              "      <td>the black dahlia murder</td>\n",
              "      <td>507</td>\n",
              "      <td>1004743</td>\n",
              "    </tr>\n",
              "  </tbody>\n",
              "</table>\n",
              "</div>"
            ],
            "text/plain": [
              "                                      users              artist-name  plays  total_artist_plays\n",
              "1  00000c289a1829a808ac09c00daf10bc3c4e223b                die Ärzte   1099             3704875\n",
              "2  00000c289a1829a808ac09c00daf10bc3c4e223b        melissa etheridge    897              180391\n",
              "3  00000c289a1829a808ac09c00daf10bc3c4e223b                elvenking    717              410725\n",
              "5  00000c289a1829a808ac09c00daf10bc3c4e223b    red hot chili peppers    691            13547741\n",
              "7  00000c289a1829a808ac09c00daf10bc3c4e223b  the black dahlia murder    507             1004743"
            ]
          },
          "metadata": {
            "tags": []
          },
          "execution_count": 15
        }
      ]
    },
    {
      "cell_type": "markdown",
      "metadata": {
        "id": "mrJ18E9PgmUR",
        "colab_type": "text"
      },
      "source": [
        "**US users only for less data **"
      ]
    },
    {
      "cell_type": "code",
      "metadata": {
        "id": "ufO7XhVUXYkU",
        "colab_type": "code",
        "outputId": "caaef2b0-56c9-4a1a-99ae-e2b2706af515",
        "colab": {
          "base_uri": "https://localhost:8080/",
          "height": 204
        }
      },
      "source": [
        "combined = user_data_popular_artists.merge(user_profiles, left_on = 'users', right_on = 'users', how = 'left')\n",
        "usa_data = combined.query('country == \\'United States\\'')\n",
        "\n",
        "if not usa_data[usa_data.duplicated(['users', 'artist-name'])].empty:\n",
        "    initial_rows = usa_data.shape[0]\n",
        "    usa_data = usa_data.drop_duplicates(['users', 'artist-name'])\n",
        "    current_rows = usa_data.shape[0]\n",
        "\n",
        "usa_data.head()"
      ],
      "execution_count": 0,
      "outputs": [
        {
          "output_type": "execute_result",
          "data": {
            "text/html": [
              "<div>\n",
              "<style scoped>\n",
              "    .dataframe tbody tr th:only-of-type {\n",
              "        vertical-align: middle;\n",
              "    }\n",
              "\n",
              "    .dataframe tbody tr th {\n",
              "        vertical-align: top;\n",
              "    }\n",
              "\n",
              "    .dataframe thead th {\n",
              "        text-align: right;\n",
              "    }\n",
              "</style>\n",
              "<table border=\"1\" class=\"dataframe\">\n",
              "  <thead>\n",
              "    <tr style=\"text-align: right;\">\n",
              "      <th></th>\n",
              "      <th>users</th>\n",
              "      <th>artist-name</th>\n",
              "      <th>plays</th>\n",
              "      <th>total_artist_plays</th>\n",
              "      <th>country</th>\n",
              "    </tr>\n",
              "  </thead>\n",
              "  <tbody>\n",
              "    <tr>\n",
              "      <th>134</th>\n",
              "      <td>00007a47085b9aab8af55f52ec8846ac479ac4fe</td>\n",
              "      <td>devendra banhart</td>\n",
              "      <td>456</td>\n",
              "      <td>2366807</td>\n",
              "      <td>United States</td>\n",
              "    </tr>\n",
              "    <tr>\n",
              "      <th>135</th>\n",
              "      <td>00007a47085b9aab8af55f52ec8846ac479ac4fe</td>\n",
              "      <td>boards of canada</td>\n",
              "      <td>407</td>\n",
              "      <td>6115545</td>\n",
              "      <td>United States</td>\n",
              "    </tr>\n",
              "    <tr>\n",
              "      <th>136</th>\n",
              "      <td>00007a47085b9aab8af55f52ec8846ac479ac4fe</td>\n",
              "      <td>cocorosie</td>\n",
              "      <td>386</td>\n",
              "      <td>2194862</td>\n",
              "      <td>United States</td>\n",
              "    </tr>\n",
              "    <tr>\n",
              "      <th>137</th>\n",
              "      <td>00007a47085b9aab8af55f52ec8846ac479ac4fe</td>\n",
              "      <td>aphex twin</td>\n",
              "      <td>213</td>\n",
              "      <td>4248296</td>\n",
              "      <td>United States</td>\n",
              "    </tr>\n",
              "    <tr>\n",
              "      <th>138</th>\n",
              "      <td>00007a47085b9aab8af55f52ec8846ac479ac4fe</td>\n",
              "      <td>animal collective</td>\n",
              "      <td>203</td>\n",
              "      <td>3495537</td>\n",
              "      <td>United States</td>\n",
              "    </tr>\n",
              "  </tbody>\n",
              "</table>\n",
              "</div>"
            ],
            "text/plain": [
              "                                        users        artist-name  plays  total_artist_plays        country\n",
              "134  00007a47085b9aab8af55f52ec8846ac479ac4fe   devendra banhart    456             2366807  United States\n",
              "135  00007a47085b9aab8af55f52ec8846ac479ac4fe   boards of canada    407             6115545  United States\n",
              "136  00007a47085b9aab8af55f52ec8846ac479ac4fe          cocorosie    386             2194862  United States\n",
              "137  00007a47085b9aab8af55f52ec8846ac479ac4fe         aphex twin    213             4248296  United States\n",
              "138  00007a47085b9aab8af55f52ec8846ac479ac4fe  animal collective    203             3495537  United States"
            ]
          },
          "metadata": {
            "tags": []
          },
          "execution_count": 16
        }
      ]
    },
    {
      "cell_type": "code",
      "metadata": {
        "id": "qjah2h60hvTp",
        "colab_type": "code",
        "colab": {}
      },
      "source": [
        "wide_artist_data = usa_data.pivot(index = 'artist-name', columns = 'users', values = 'plays').fillna(0)\n",
        "# print(wide_artist_data)\n",
        "wide_artist_data_sparse = csr_matrix(wide_artist_data.values)\n",
        "# print(wide_artist_data_sparse)\n"
      ],
      "execution_count": 0,
      "outputs": []
    },
    {
      "cell_type": "markdown",
      "metadata": {
        "id": "IsYlJmsihyJL",
        "colab_type": "text"
      },
      "source": [
        "# **Some Usefull Methods**"
      ]
    },
    {
      "cell_type": "code",
      "metadata": {
        "id": "qnampl9fg3gf",
        "colab_type": "code",
        "colab": {}
      },
      "source": [
        "#save model\n",
        "def save_sparse_csr(filename,array):\n",
        "    np.savez(filename,data = array.data ,indices=array.indices,\n",
        "             indptr =array.indptr, shape=array.shape )\n",
        "\n",
        "def load_sparse_csr(filename):\n",
        "    loader = np.load(filename)\n",
        "    return csr_matrix((loader['data'], loader['indices'], loader['indptr']),\n",
        "                         shape = loader['shape'])\n",
        "    \n",
        "def  print_artist_recommendations (query_artist, artist_plays_matrix, knn_model, k):\n",
        "\n",
        "  #  query_artist: query artist name\n",
        "    \n",
        "    query_index = None\n",
        "    ratio_tuples = []\n",
        "    recommended_artists = []\n",
        "    \n",
        "    for i in artist_plays_matrix.index:\n",
        "        ratio = fuzz.ratio(i.lower(), query_artist.lower())\n",
        "        if ratio >= 75:\n",
        "            current_query_index = artist_plays_matrix.index.tolist().index(i)\n",
        "            ratio_tuples.append((i, ratio, current_query_index))\n",
        "    \n",
        "    print ('Possible matches: {0}\\n'.format([(x[0], x[1]) for x in ratio_tuples]))\n",
        "    \n",
        "    try:\n",
        "        query_index = max(ratio_tuples, key = lambda x: x[1])[2] # get the index of the best artist match in the data\n",
        "    except:\n",
        "        print ('Your artist didn\\'t match any artists in the data. Try again')\n",
        "        return None\n",
        "    \n",
        "    distances, indices = knn_model.kneighbors(artist_plays_matrix.iloc[query_index, :].values.reshape(1, -1), n_neighbors = k + 1)\n",
        "\n",
        "    for i in range(0, len(distances.flatten())):\n",
        "        if i == 0:\n",
        "            print ('Recommendations for {0}:\\n'.format(artist_plays_matrix.index[query_index]))\n",
        "        else:\n",
        "            recommended_artists.append(artist_plays_matrix.index[indices.flatten()[i]])\n",
        "            print ('{0}: {1}, with distance of {2}:'.format(i, artist_plays_matrix.index[indices.flatten()[i]], distances.flatten()[i]))\n",
        "\n",
        "    return recommended_artists"
      ],
      "execution_count": 0,
      "outputs": []
    },
    {
      "cell_type": "markdown",
      "metadata": {
        "id": "4ewDAb_2jI4L",
        "colab_type": "text"
      },
      "source": [
        "# **Saving sparse CSR**"
      ]
    },
    {
      "cell_type": "code",
      "metadata": {
        "id": "5_IK9bhpjRSr",
        "colab_type": "code",
        "colab": {}
      },
      "source": [
        "save_sparse_csr(CSR_save_file_name, wide_artist_data_sparse)"
      ],
      "execution_count": 0,
      "outputs": []
    },
    {
      "cell_type": "markdown",
      "metadata": {
        "id": "EXZf-zQwiX29",
        "colab_type": "text"
      },
      "source": [
        "# **Training**"
      ]
    },
    {
      "cell_type": "code",
      "metadata": {
        "id": "FnR2r4F3iV4a",
        "colab_type": "code",
        "outputId": "250b2082-79f5-475e-cc3f-6b99cdb4ce2d",
        "colab": {
          "base_uri": "https://localhost:8080/",
          "height": 68
        }
      },
      "source": [
        "#fit model\n",
        "model_knn = NearestNeighbors(metric = 'cosine', algorithm = 'brute')\n",
        "model_knn.fit(wide_artist_data_sparse)\n"
      ],
      "execution_count": 0,
      "outputs": [
        {
          "output_type": "execute_result",
          "data": {
            "text/plain": [
              "NearestNeighbors(algorithm='brute', leaf_size=30, metric='cosine',\n",
              "                 metric_params=None, n_jobs=None, n_neighbors=5, p=2,\n",
              "                 radius=1.0)"
            ]
          },
          "metadata": {
            "tags": []
          },
          "execution_count": 20
        }
      ]
    },
    {
      "cell_type": "markdown",
      "metadata": {
        "id": "0Fjs1VmtjZTh",
        "colab_type": "text"
      },
      "source": [
        "# **Print Top 10 recommendations**"
      ]
    },
    {
      "cell_type": "code",
      "metadata": {
        "id": "lejsHdd6jf82",
        "colab_type": "code",
        "outputId": "f3d1c3b6-1f86-425e-d4d0-a85cdc49fd04",
        "colab": {
          "base_uri": "https://localhost:8080/",
          "height": 272
        }
      },
      "source": [
        "recommended_artists = print_artist_recommendations('bob dylan', wide_artist_data, model_knn, k = 10)\n",
        "\n",
        "print(recommended_artists)"
      ],
      "execution_count": 0,
      "outputs": [
        {
          "output_type": "stream",
          "text": [
            "Possible matches: [('bob dylan', 100)]\n",
            "\n",
            "Recommendations for bob dylan:\n",
            "\n",
            "1: the band, with distance of 0.6894347031604409:\n",
            "2: grateful dead, with distance of 0.732429870951373:\n",
            "3: neil young, with distance of 0.7349833775494925:\n",
            "4: the rolling stones, with distance of 0.7363390873659932:\n",
            "5: the beatles, with distance of 0.7475805124322863:\n",
            "6: the velvet underground, with distance of 0.8000663230166598:\n",
            "7: led zeppelin, with distance of 0.8093019262072221:\n",
            "8: jimi hendrix, with distance of 0.8136566190704223:\n",
            "9: the kinks, with distance of 0.8179323589409717:\n",
            "10: the allman brothers band, with distance of 0.8183530325911672:\n",
            "['the band', 'grateful dead', 'neil young', 'the rolling stones', 'the beatles', 'the velvet underground', 'led zeppelin', 'jimi hendrix', 'the kinks', 'the allman brothers band']\n"
          ],
          "name": "stdout"
        }
      ]
    },
    {
      "cell_type": "markdown",
      "metadata": {
        "id": "-b5BS7bHrDCv",
        "colab_type": "text"
      },
      "source": [
        "# **Playlist shuffling**"
      ]
    },
    {
      "cell_type": "markdown",
      "metadata": {
        "id": "hqQP_NgYvQMs",
        "colab_type": "text"
      },
      "source": [
        "## **Fisher Yates**"
      ]
    },
    {
      "cell_type": "code",
      "metadata": {
        "id": "DQDZBDeYrN54",
        "colab_type": "code",
        "colab": {}
      },
      "source": [
        "def Fisher_yates(recommended_artists):\n",
        "    import random \n",
        "    for i in range(len(recommended_artists)-1, 0, -1): \n",
        "        j = random.randint(0, i + 1)  \n",
        "        if(j>=len(recommended_artists) or i>=len(recommended_artists)):\n",
        "             print(\"NOT GOOD\")\n",
        "        recommended_artists[i], recommended_artists[j] = recommended_artists[j], recommended_artists[i]  \n",
        "    return recommended_artists"
      ],
      "execution_count": 0,
      "outputs": []
    },
    {
      "cell_type": "code",
      "metadata": {
        "id": "qja1kVRXs1_g",
        "colab_type": "code",
        "outputId": "a8006f81-3cb2-4b1d-9beb-14d9cc376e12",
        "colab": {
          "base_uri": "https://localhost:8080/",
          "height": 357
        }
      },
      "source": [
        "recommended_artists_acc_to_fisher_yates = Fisher_yates(recommended_artists)\n",
        "for idx,row in enumerate(recommended_artists_acc_to_fisher_yates):\n",
        "    print(str(idx)+\" : \"+row+\"\\n\")\n",
        "# print(recommended_artists_acc_to_fisher_yates)"
      ],
      "execution_count": 0,
      "outputs": [
        {
          "output_type": "stream",
          "text": [
            "0 : the rolling stones\n",
            "\n",
            "1 : the velvet underground\n",
            "\n",
            "2 : the allman brothers band\n",
            "\n",
            "3 : the beatles\n",
            "\n",
            "4 : neil young\n",
            "\n",
            "5 : the band\n",
            "\n",
            "6 : jimi hendrix\n",
            "\n",
            "7 : the kinks\n",
            "\n",
            "8 : led zeppelin\n",
            "\n",
            "9 : grateful dead\n",
            "\n"
          ],
          "name": "stdout"
        }
      ]
    },
    {
      "cell_type": "markdown",
      "metadata": {
        "id": "RoL9PrwYvbrB",
        "colab_type": "text"
      },
      "source": [
        "## **Etilist Shuffling**"
      ]
    },
    {
      "cell_type": "code",
      "metadata": {
        "id": "X8ER1mkzvhfx",
        "colab_type": "code",
        "colab": {}
      },
      "source": [
        "def Etilist_Shuffle(items,inequality):\n",
        "    weights = np.power(np.linspace(1, 0, num=len(items), endpoint=False),inequality)\n",
        "    weights = weights / np.linalg.norm(weights, ord=1)\n",
        "    return np.random.choice(items, size=len(items), replace=False, p=weights)"
      ],
      "execution_count": 0,
      "outputs": []
    },
    {
      "cell_type": "code",
      "metadata": {
        "id": "GATOL1XABkcK",
        "colab_type": "code",
        "outputId": "5734a848-2c74-4dc3-a7b5-50850536aecd",
        "colab": {
          "base_uri": "https://localhost:8080/",
          "height": 357
        }
      },
      "source": [
        "inequality=5\n",
        "Rec_ArtistEtilist = Etilist_Shuffle(recommended_artists,inequality)\n",
        "for idx,row in enumerate(Rec_ArtistEtilist):\n",
        "    print(str(idx)+\" : \"+row+\"\\n\")"
      ],
      "execution_count": 0,
      "outputs": [
        {
          "output_type": "stream",
          "text": [
            "0 : the beatles\n",
            "\n",
            "1 : the rolling stones\n",
            "\n",
            "2 : the velvet underground\n",
            "\n",
            "3 : the allman brothers band\n",
            "\n",
            "4 : neil young\n",
            "\n",
            "5 : the kinks\n",
            "\n",
            "6 : the band\n",
            "\n",
            "7 : jimi hendrix\n",
            "\n",
            "8 : led zeppelin\n",
            "\n",
            "9 : grateful dead\n",
            "\n"
          ],
          "name": "stdout"
        }
      ]
    },
    {
      "cell_type": "markdown",
      "metadata": {
        "id": "guJmE34vzYeH",
        "colab_type": "text"
      },
      "source": [
        "# **Stay Safe**"
      ]
    }
  ]
}