{
  "nbformat": 4,
  "nbformat_minor": 0,
  "metadata": {
    "colab": {
      "name": "MusicReccommendationSystemFinal",
      "provenance": [],
      "collapsed_sections": [
        "8Zuyj-LFUSWQ",
        "N2HBtMbBu-_8",
        "Ts-WRbqPRgtC",
        "dK8euFRAX426",
        "RCDVZ8fuRzHe",
        "7CBexkF7SIu4",
        "pvH64tGqU7ow",
        "gsiKaIEfSgsv",
        "IyBpOpBKTex1",
        "IsYlJmsihyJL",
        "4ewDAb_2jI4L",
        "EXZf-zQwiX29",
        "0Fjs1VmtjZTh",
        "-b5BS7bHrDCv",
        "hqQP_NgYvQMs",
        "RoL9PrwYvbrB"
      ],
      "include_colab_link": true
    },
    "kernelspec": {
      "name": "python3",
      "display_name": "Python 3"
    },
    "accelerator": "GPU"
  },
  "cells": [
    {
      "cell_type": "markdown",
      "metadata": {
        "id": "view-in-github",
        "colab_type": "text"
      },
      "source": [
        "<a href=\"https://colab.research.google.com/github/umangja/Music-Playlist-Generation-And-Shuffling/blob/master/MusicReccommendationSystemFinal.ipynb\" target=\"_parent\"><img src=\"https://colab.research.google.com/assets/colab-badge.svg\" alt=\"Open In Colab\"/></a>"
      ]
    },
    {
      "cell_type": "markdown",
      "metadata": {
        "id": "GN2NhWSMwBVj",
        "colab_type": "text"
      },
      "source": [
        "# **Important Note**\n",
        "\n",
        "1. First of all mount your G drive to colab.\n",
        "\n",
        "2. Then upload data file on your gdrive.\n",
        "\n",
        "3. Define path file address accordingly.\n",
        "\n"
      ]
    },
    {
      "cell_type": "markdown",
      "metadata": {
        "id": "8Zuyj-LFUSWQ",
        "colab_type": "text"
      },
      "source": [
        "#**Mounting Gdrive**"
      ]
    },
    {
      "cell_type": "code",
      "metadata": {
        "id": "B9qPdeBCD5r-",
        "colab_type": "code",
        "outputId": "c89a2e0a-a509-47d8-9a40-016d42f26a03",
        "colab": {
          "base_uri": "https://localhost:8080/",
          "height": 122
        }
      },
      "source": [
        "from google.colab import drive\n",
        "drive.mount('/content/drive')"
      ],
      "execution_count": 1,
      "outputs": [
        {
          "output_type": "stream",
          "text": [
            "Go to this URL in a browser: https://accounts.google.com/o/oauth2/auth?client_id=947318989803-6bn6qk8qdgf4n4g3pfee6491hc0brc4i.apps.googleusercontent.com&redirect_uri=urn%3aietf%3awg%3aoauth%3a2.0%3aoob&response_type=code&scope=email%20https%3a%2f%2fwww.googleapis.com%2fauth%2fdocs.test%20https%3a%2f%2fwww.googleapis.com%2fauth%2fdrive%20https%3a%2f%2fwww.googleapis.com%2fauth%2fdrive.photos.readonly%20https%3a%2f%2fwww.googleapis.com%2fauth%2fpeopleapi.readonly\n",
            "\n",
            "Enter your authorization code:\n",
            "··········\n",
            "Mounted at /content/drive\n"
          ],
          "name": "stdout"
        }
      ]
    },
    {
      "cell_type": "markdown",
      "metadata": {
        "id": "N2HBtMbBu-_8",
        "colab_type": "text"
      },
      "source": [
        "# **Installing Required Libs**"
      ]
    },
    {
      "cell_type": "code",
      "metadata": {
        "id": "ZNoMy7WUQRu1",
        "colab_type": "code",
        "outputId": "65a1bc19-27b6-4d2e-dc7d-2760b3163895",
        "colab": {
          "base_uri": "https://localhost:8080/",
          "height": 105
        }
      },
      "source": [
        "!pip3 install fuzzywuzzy\n",
        "!pip install lyricscorpora"
      ],
      "execution_count": 2,
      "outputs": [
        {
          "output_type": "stream",
          "text": [
            "Collecting fuzzywuzzy\n",
            "  Downloading https://files.pythonhosted.org/packages/43/ff/74f23998ad2f93b945c0309f825be92e04e0348e062026998b5eefef4c33/fuzzywuzzy-0.18.0-py2.py3-none-any.whl\n",
            "Installing collected packages: fuzzywuzzy\n",
            "Successfully installed fuzzywuzzy-0.18.0\n"
          ],
          "name": "stdout"
        }
      ]
    },
    {
      "cell_type": "markdown",
      "metadata": {
        "id": "Ts-WRbqPRgtC",
        "colab_type": "text"
      },
      "source": [
        "# **Import Libs**"
      ]
    },
    {
      "cell_type": "code",
      "metadata": {
        "id": "cRLnvuwn7joZ",
        "colab_type": "code",
        "colab": {}
      },
      "source": [
        "import pandas as pd\n",
        "import lyricscorpora as lc\n",
        "from scipy.spatial.distance import cosine\n",
        "import numpy as np\n",
        "from scipy.sparse import csr_matrix\n",
        "from  sklearn.neighbors import NearestNeighbors\n",
        "from scipy.sparse import csr_matrix\n",
        "import  string\n",
        "from fuzzywuzzy import fuzz\n"
      ],
      "execution_count": 0,
      "outputs": []
    },
    {
      "cell_type": "markdown",
      "metadata": {
        "id": "dK8euFRAX426",
        "colab_type": "text"
      },
      "source": [
        "# **Setting Default Value**"
      ]
    },
    {
      "cell_type": "code",
      "metadata": {
        "id": "8gUpjr58YAvK",
        "colab_type": "code",
        "colab": {}
      },
      "source": [
        "pd.set_option('display.max_rows', 500)\n",
        "pd.set_option('display.max_columns', 500)\n",
        "pd.set_option('display.width', 1000)"
      ],
      "execution_count": 0,
      "outputs": []
    },
    {
      "cell_type": "markdown",
      "metadata": {
        "id": "RCDVZ8fuRzHe",
        "colab_type": "text"
      },
      "source": [
        "# **Defining Path Variable**"
      ]
    },
    {
      "cell_type": "code",
      "metadata": {
        "id": "JWQG0IwL78PV",
        "colab_type": "code",
        "colab": {}
      },
      "source": [
        "usersha1_artmbid_artname_plays_path = \"/content/drive/My Drive/Colab Notebooks/dataset/lastfm-dataset-360K/usersha1-artmbid-artname-plays.tsv\"\n",
        "usersha1_profile_path               = \"/content/drive/My Drive/Colab Notebooks/dataset/lastfm-dataset-360K/usersha1-profile.tsv\"\n",
        "CSR_save_file_name                  = \"first.npz\""
      ],
      "execution_count": 0,
      "outputs": []
    },
    {
      "cell_type": "markdown",
      "metadata": {
        "id": "7CBexkF7SIu4",
        "colab_type": "text"
      },
      "source": [
        "# **Importing last.fm dataset**"
      ]
    },
    {
      "cell_type": "code",
      "metadata": {
        "id": "D8vNkRxFRdAB",
        "colab_type": "code",
        "colab": {}
      },
      "source": [
        "user_data = pd.read_table(usersha1_artmbid_artname_plays_path,\n",
        "                          header = None, nrows = 2e7,\n",
        "                          names = ['users', 'musicbrainz-artist-id', 'artist-name', 'plays'],\n",
        "                          usecols = ['users', 'artist-name', 'plays'])\n",
        "\n",
        "user_profiles = pd.read_table(usersha1_profile_path  ,\n",
        "                          header = None,\n",
        "                          names = ['users', 'gender', 'age', 'country', 'signup'],\n",
        "                          usecols = ['users', 'country'])\n"
      ],
      "execution_count": 0,
      "outputs": []
    },
    {
      "cell_type": "markdown",
      "metadata": {
        "id": "pvH64tGqU7ow",
        "colab_type": "text"
      },
      "source": [
        "# **Printing dataset**"
      ]
    },
    {
      "cell_type": "code",
      "metadata": {
        "id": "3EB8b4MbVH-z",
        "colab_type": "code",
        "outputId": "eec4f06e-a58a-4527-86a5-c764cfb05929",
        "colab": {
          "base_uri": "https://localhost:8080/",
          "height": 544
        }
      },
      "source": [
        "print(user_data)\n",
        "print(\"\\n\\n\")\n",
        "print(user_profiles)"
      ],
      "execution_count": 12,
      "outputs": [
        {
          "output_type": "stream",
          "text": [
            "                                             users           artist-name  plays\n",
            "0         00000c289a1829a808ac09c00daf10bc3c4e223b       betty blowtorch   2137\n",
            "1         00000c289a1829a808ac09c00daf10bc3c4e223b             die Ärzte   1099\n",
            "2         00000c289a1829a808ac09c00daf10bc3c4e223b     melissa etheridge    897\n",
            "3         00000c289a1829a808ac09c00daf10bc3c4e223b             elvenking    717\n",
            "4         00000c289a1829a808ac09c00daf10bc3c4e223b  juliette & the licks    706\n",
            "...                                            ...                   ...    ...\n",
            "17535650                              sep 20, 2008            turbostaat     12\n",
            "17535651                              sep 20, 2008         cuba missouri     11\n",
            "17535652                              sep 20, 2008       little man tate     11\n",
            "17535653                              sep 20, 2008             sigur rós     10\n",
            "17535654                              sep 20, 2008            the smiths     10\n",
            "\n",
            "[17535655 rows x 3 columns]\n",
            "\n",
            "\n",
            "\n",
            "                                           users             country\n",
            "0       00000c289a1829a808ac09c00daf10bc3c4e223b             Germany\n",
            "1       00001411dc427966b17297bf4d69e7e193135d89              Canada\n",
            "2       00004d2ac9316e22dc007ab2243d6fcb239e707d             Germany\n",
            "3       000063d3fe1cf2ba248b9e3c3f0334845a27a6bf              Mexico\n",
            "4       00007a47085b9aab8af55f52ec8846ac479ac4fe       United States\n",
            "...                                          ...                 ...\n",
            "359342  fffe7823f67b433b45f22056467db921c1d3d7d0             Germany\n",
            "359343  fffe8637bd8234309e871409c7ebef99a720afc1              Brazil\n",
            "359344  fffe8c7f952d9b960a56ed4dcb40a415d924b224       United States\n",
            "359345  ffff9af9ae04d263dae91cb838b1f3a6725f5ffb  Russian Federation\n",
            "359346  ffff9ef87a7d9494ada2f9ade4b9ff637c0759ac             Belgium\n",
            "\n",
            "[359347 rows x 2 columns]\n"
          ],
          "name": "stdout"
        }
      ]
    },
    {
      "cell_type": "markdown",
      "metadata": {
        "id": "gsiKaIEfSgsv",
        "colab_type": "text"
      },
      "source": [
        "# **Removing very unpopular artists**\n",
        "removing all those rows from which contain null value at artist-name column\n"
      ]
    },
    {
      "cell_type": "code",
      "metadata": {
        "id": "7bNwXZHdSECU",
        "colab_type": "code",
        "colab": {}
      },
      "source": [
        "if user_data['artist-name'].isnull().sum() > 0: user_data = user_data.dropna(axis = 0, subset = ['artist-name'])"
      ],
      "execution_count": 0,
      "outputs": []
    },
    {
      "cell_type": "markdown",
      "metadata": {
        "id": "IyBpOpBKTex1",
        "colab_type": "text"
      },
      "source": [
        "#**Some more modification**"
      ]
    },
    {
      "cell_type": "code",
      "metadata": {
        "id": "Js3wjK0FSWym",
        "colab_type": "code",
        "colab": {}
      },
      "source": [
        "artist_plays = (user_data.\n",
        "     groupby(by = ['artist-name'])['plays'].\n",
        "     sum().\n",
        "     reset_index().\n",
        "     rename(columns = {'plays': 'total_artist_plays'})\n",
        "     [['artist-name', 'total_artist_plays']]\n",
        "    )\n",
        "\n",
        "# print(artist_plays)\n"
      ],
      "execution_count": 0,
      "outputs": []
    },
    {
      "cell_type": "markdown",
      "metadata": {
        "id": "xQDOIQODgNSx",
        "colab_type": "text"
      },
      "source": [
        "**Merging user data with artist play**"
      ]
    },
    {
      "cell_type": "code",
      "metadata": {
        "id": "QrxTudPgV_66",
        "colab_type": "code",
        "colab": {}
      },
      "source": [
        "user_data_with_artist_plays = user_data.merge(artist_plays, left_on = 'artist-name', right_on = 'artist-name', how = 'left')\n",
        "\n",
        "# print(user_data_with_artist_plays.head())"
      ],
      "execution_count": 0,
      "outputs": []
    },
    {
      "cell_type": "markdown",
      "metadata": {
        "id": "XNbv70SygTQm",
        "colab_type": "text"
      },
      "source": [
        "**user data for popular artist**"
      ]
    },
    {
      "cell_type": "code",
      "metadata": {
        "id": "w5oWelEAgJqQ",
        "colab_type": "code",
        "outputId": "5e3daf58-472b-432d-d6e7-850d0dfafd6a",
        "colab": {
          "base_uri": "https://localhost:8080/",
          "height": 204
        }
      },
      "source": [
        "#artist popularity threshold (change as per pref)\n",
        "popularity_threshold = 100000\n",
        "user_data_popular_artists = user_data_with_artist_plays.query('total_artist_plays >= @popularity_threshold')\n",
        "user_data_popular_artists.head()"
      ],
      "execution_count": 16,
      "outputs": [
        {
          "output_type": "execute_result",
          "data": {
            "text/html": [
              "<div>\n",
              "<style scoped>\n",
              "    .dataframe tbody tr th:only-of-type {\n",
              "        vertical-align: middle;\n",
              "    }\n",
              "\n",
              "    .dataframe tbody tr th {\n",
              "        vertical-align: top;\n",
              "    }\n",
              "\n",
              "    .dataframe thead th {\n",
              "        text-align: right;\n",
              "    }\n",
              "</style>\n",
              "<table border=\"1\" class=\"dataframe\">\n",
              "  <thead>\n",
              "    <tr style=\"text-align: right;\">\n",
              "      <th></th>\n",
              "      <th>users</th>\n",
              "      <th>artist-name</th>\n",
              "      <th>plays</th>\n",
              "      <th>total_artist_plays</th>\n",
              "    </tr>\n",
              "  </thead>\n",
              "  <tbody>\n",
              "    <tr>\n",
              "      <th>1</th>\n",
              "      <td>00000c289a1829a808ac09c00daf10bc3c4e223b</td>\n",
              "      <td>die Ärzte</td>\n",
              "      <td>1099</td>\n",
              "      <td>3704875</td>\n",
              "    </tr>\n",
              "    <tr>\n",
              "      <th>2</th>\n",
              "      <td>00000c289a1829a808ac09c00daf10bc3c4e223b</td>\n",
              "      <td>melissa etheridge</td>\n",
              "      <td>897</td>\n",
              "      <td>180391</td>\n",
              "    </tr>\n",
              "    <tr>\n",
              "      <th>3</th>\n",
              "      <td>00000c289a1829a808ac09c00daf10bc3c4e223b</td>\n",
              "      <td>elvenking</td>\n",
              "      <td>717</td>\n",
              "      <td>410725</td>\n",
              "    </tr>\n",
              "    <tr>\n",
              "      <th>5</th>\n",
              "      <td>00000c289a1829a808ac09c00daf10bc3c4e223b</td>\n",
              "      <td>red hot chili peppers</td>\n",
              "      <td>691</td>\n",
              "      <td>13547741</td>\n",
              "    </tr>\n",
              "    <tr>\n",
              "      <th>7</th>\n",
              "      <td>00000c289a1829a808ac09c00daf10bc3c4e223b</td>\n",
              "      <td>the black dahlia murder</td>\n",
              "      <td>507</td>\n",
              "      <td>1004743</td>\n",
              "    </tr>\n",
              "  </tbody>\n",
              "</table>\n",
              "</div>"
            ],
            "text/plain": [
              "                                      users              artist-name  plays  total_artist_plays\n",
              "1  00000c289a1829a808ac09c00daf10bc3c4e223b                die Ärzte   1099             3704875\n",
              "2  00000c289a1829a808ac09c00daf10bc3c4e223b        melissa etheridge    897              180391\n",
              "3  00000c289a1829a808ac09c00daf10bc3c4e223b                elvenking    717              410725\n",
              "5  00000c289a1829a808ac09c00daf10bc3c4e223b    red hot chili peppers    691            13547741\n",
              "7  00000c289a1829a808ac09c00daf10bc3c4e223b  the black dahlia murder    507             1004743"
            ]
          },
          "metadata": {
            "tags": []
          },
          "execution_count": 16
        }
      ]
    },
    {
      "cell_type": "markdown",
      "metadata": {
        "id": "mrJ18E9PgmUR",
        "colab_type": "text"
      },
      "source": [
        "**US users only for less data **"
      ]
    },
    {
      "cell_type": "code",
      "metadata": {
        "id": "ufO7XhVUXYkU",
        "colab_type": "code",
        "outputId": "844f44fe-76f7-4841-fd57-4e25a02fc17b",
        "colab": {
          "base_uri": "https://localhost:8080/",
          "height": 204
        }
      },
      "source": [
        "combined = user_data_popular_artists.merge(user_profiles, left_on = 'users', right_on = 'users', how = 'left')\n",
        "usa_data = combined.query('country == \\'United States\\'')\n",
        "\n",
        "if not usa_data[usa_data.duplicated(['users', 'artist-name'])].empty:\n",
        "    initial_rows = usa_data.shape[0]\n",
        "    usa_data = usa_data.drop_duplicates(['users', 'artist-name'])\n",
        "    current_rows = usa_data.shape[0]\n",
        "\n",
        "usa_data.head()"
      ],
      "execution_count": 17,
      "outputs": [
        {
          "output_type": "execute_result",
          "data": {
            "text/html": [
              "<div>\n",
              "<style scoped>\n",
              "    .dataframe tbody tr th:only-of-type {\n",
              "        vertical-align: middle;\n",
              "    }\n",
              "\n",
              "    .dataframe tbody tr th {\n",
              "        vertical-align: top;\n",
              "    }\n",
              "\n",
              "    .dataframe thead th {\n",
              "        text-align: right;\n",
              "    }\n",
              "</style>\n",
              "<table border=\"1\" class=\"dataframe\">\n",
              "  <thead>\n",
              "    <tr style=\"text-align: right;\">\n",
              "      <th></th>\n",
              "      <th>users</th>\n",
              "      <th>artist-name</th>\n",
              "      <th>plays</th>\n",
              "      <th>total_artist_plays</th>\n",
              "      <th>country</th>\n",
              "    </tr>\n",
              "  </thead>\n",
              "  <tbody>\n",
              "    <tr>\n",
              "      <th>134</th>\n",
              "      <td>00007a47085b9aab8af55f52ec8846ac479ac4fe</td>\n",
              "      <td>devendra banhart</td>\n",
              "      <td>456</td>\n",
              "      <td>2366807</td>\n",
              "      <td>United States</td>\n",
              "    </tr>\n",
              "    <tr>\n",
              "      <th>135</th>\n",
              "      <td>00007a47085b9aab8af55f52ec8846ac479ac4fe</td>\n",
              "      <td>boards of canada</td>\n",
              "      <td>407</td>\n",
              "      <td>6115545</td>\n",
              "      <td>United States</td>\n",
              "    </tr>\n",
              "    <tr>\n",
              "      <th>136</th>\n",
              "      <td>00007a47085b9aab8af55f52ec8846ac479ac4fe</td>\n",
              "      <td>cocorosie</td>\n",
              "      <td>386</td>\n",
              "      <td>2194862</td>\n",
              "      <td>United States</td>\n",
              "    </tr>\n",
              "    <tr>\n",
              "      <th>137</th>\n",
              "      <td>00007a47085b9aab8af55f52ec8846ac479ac4fe</td>\n",
              "      <td>aphex twin</td>\n",
              "      <td>213</td>\n",
              "      <td>4248296</td>\n",
              "      <td>United States</td>\n",
              "    </tr>\n",
              "    <tr>\n",
              "      <th>138</th>\n",
              "      <td>00007a47085b9aab8af55f52ec8846ac479ac4fe</td>\n",
              "      <td>animal collective</td>\n",
              "      <td>203</td>\n",
              "      <td>3495537</td>\n",
              "      <td>United States</td>\n",
              "    </tr>\n",
              "  </tbody>\n",
              "</table>\n",
              "</div>"
            ],
            "text/plain": [
              "                                        users        artist-name  plays  total_artist_plays        country\n",
              "134  00007a47085b9aab8af55f52ec8846ac479ac4fe   devendra banhart    456             2366807  United States\n",
              "135  00007a47085b9aab8af55f52ec8846ac479ac4fe   boards of canada    407             6115545  United States\n",
              "136  00007a47085b9aab8af55f52ec8846ac479ac4fe          cocorosie    386             2194862  United States\n",
              "137  00007a47085b9aab8af55f52ec8846ac479ac4fe         aphex twin    213             4248296  United States\n",
              "138  00007a47085b9aab8af55f52ec8846ac479ac4fe  animal collective    203             3495537  United States"
            ]
          },
          "metadata": {
            "tags": []
          },
          "execution_count": 17
        }
      ]
    },
    {
      "cell_type": "code",
      "metadata": {
        "id": "qjah2h60hvTp",
        "colab_type": "code",
        "colab": {}
      },
      "source": [
        "wide_artist_data = usa_data.pivot(index = 'artist-name', columns = 'users', values = 'plays').fillna(0)\n",
        "# print(wide_artist_data)\n",
        "wide_artist_data_sparse = csr_matrix(wide_artist_data.values)\n",
        "# print(wide_artist_data_sparse)\n"
      ],
      "execution_count": 0,
      "outputs": []
    },
    {
      "cell_type": "markdown",
      "metadata": {
        "id": "IsYlJmsihyJL",
        "colab_type": "text"
      },
      "source": [
        "# **Some Usefull Methods**"
      ]
    },
    {
      "cell_type": "code",
      "metadata": {
        "id": "qnampl9fg3gf",
        "colab_type": "code",
        "colab": {}
      },
      "source": [
        "#save model\n",
        "def save_sparse_csr(filename,array):\n",
        "    np.savez(filename,data = array.data ,indices=array.indices,\n",
        "             indptr =array.indptr, shape=array.shape )\n",
        "\n",
        "def load_sparse_csr(filename):\n",
        "    loader = np.load(filename)\n",
        "    return csr_matrix((loader['data'], loader['indices'], loader['indptr']),\n",
        "                         shape = loader['shape'])\n",
        "    \n",
        "def  print_artist_recommendations (query_artist, artist_plays_matrix, knn_model, k):\n",
        "\n",
        "  #  query_artist: query artist name\n",
        "    \n",
        "    query_index = None\n",
        "    ratio_tuples = []\n",
        "    recommended_artists = []\n",
        "    \n",
        "    for i in artist_plays_matrix.index:\n",
        "        ratio = fuzz.ratio(i.lower(), query_artist.lower())\n",
        "        if ratio >= 75:\n",
        "            current_query_index = artist_plays_matrix.index.tolist().index(i)\n",
        "            ratio_tuples.append((i, ratio, current_query_index))\n",
        "    \n",
        "    print ('Possible matches: {0}\\n'.format([(x[0], x[1]) for x in ratio_tuples]))\n",
        "    \n",
        "    try:\n",
        "        query_index = max(ratio_tuples, key = lambda x: x[1])[2] # get the index of the best artist match in the data\n",
        "    except:\n",
        "        print ('Your artist didn\\'t match any artists in the data. Try again')\n",
        "        return None\n",
        "    \n",
        "    distances, indices = knn_model.kneighbors(artist_plays_matrix.iloc[query_index, :].values.reshape(1, -1), n_neighbors = k + 1)\n",
        "\n",
        "    for i in range(0, len(distances.flatten())):\n",
        "        if i == 0:\n",
        "            print ('Recommendations for {0}:\\n'.format(artist_plays_matrix.index[query_index]))\n",
        "        else:\n",
        "            recommended_artists.append(artist_plays_matrix.index[indices.flatten()[i]])\n",
        "            print ('{0}: {1}, with distance of {2}:'.format(i, artist_plays_matrix.index[indices.flatten()[i]], distances.flatten()[i]))\n",
        "\n",
        "    return recommended_artists"
      ],
      "execution_count": 0,
      "outputs": []
    },
    {
      "cell_type": "markdown",
      "metadata": {
        "id": "4ewDAb_2jI4L",
        "colab_type": "text"
      },
      "source": [
        "# **Saving sparse CSR**"
      ]
    },
    {
      "cell_type": "code",
      "metadata": {
        "id": "5_IK9bhpjRSr",
        "colab_type": "code",
        "colab": {}
      },
      "source": [
        "save_sparse_csr(CSR_save_file_name, wide_artist_data_sparse)"
      ],
      "execution_count": 0,
      "outputs": []
    },
    {
      "cell_type": "markdown",
      "metadata": {
        "id": "EXZf-zQwiX29",
        "colab_type": "text"
      },
      "source": [
        "# **Training**"
      ]
    },
    {
      "cell_type": "code",
      "metadata": {
        "id": "FnR2r4F3iV4a",
        "colab_type": "code",
        "outputId": "f7417c6a-bb1c-4aff-ef2c-cd53c83616f9",
        "colab": {
          "base_uri": "https://localhost:8080/",
          "height": 68
        }
      },
      "source": [
        "#fit model\n",
        "model_knn = NearestNeighbors(metric = 'cosine', algorithm = 'brute')\n",
        "model_knn.fit(wide_artist_data_sparse)\n"
      ],
      "execution_count": 21,
      "outputs": [
        {
          "output_type": "execute_result",
          "data": {
            "text/plain": [
              "NearestNeighbors(algorithm='brute', leaf_size=30, metric='cosine',\n",
              "                 metric_params=None, n_jobs=None, n_neighbors=5, p=2,\n",
              "                 radius=1.0)"
            ]
          },
          "metadata": {
            "tags": []
          },
          "execution_count": 21
        }
      ]
    },
    {
      "cell_type": "markdown",
      "metadata": {
        "id": "0Fjs1VmtjZTh",
        "colab_type": "text"
      },
      "source": [
        "# **Print Top 10 recommendations**"
      ]
    },
    {
      "cell_type": "code",
      "metadata": {
        "id": "lejsHdd6jf82",
        "colab_type": "code",
        "outputId": "54ef3215-9293-46c4-c3bb-7857a283a2e8",
        "colab": {
          "base_uri": "https://localhost:8080/",
          "height": 292
        }
      },
      "source": [
        "recommended_artists = print_artist_recommendations('bob dylan', wide_artist_data, model_knn, k = 10)\n",
        "\n",
        "print(recommended_artists)"
      ],
      "execution_count": 30,
      "outputs": [
        {
          "output_type": "stream",
          "text": [
            "Possible matches: [('bob dylan', 100)]\n",
            "\n",
            "Recommendations for bob dylan:\n",
            "\n",
            "1: the band, with distance of 0.6894347031604409:\n",
            "2: grateful dead, with distance of 0.732429870951373:\n",
            "3: neil young, with distance of 0.7349833775494925:\n",
            "4: the rolling stones, with distance of 0.7363390873659932:\n",
            "5: the beatles, with distance of 0.7475805124322863:\n",
            "6: the velvet underground, with distance of 0.8000663230166598:\n",
            "7: led zeppelin, with distance of 0.8093019262072221:\n",
            "8: jimi hendrix, with distance of 0.8136566190704223:\n",
            "9: the kinks, with distance of 0.8179323589409717:\n",
            "10: the allman brothers band, with distance of 0.8183530325911672:\n",
            "['the band', 'grateful dead', 'neil young', 'the rolling stones', 'the beatles', 'the velvet underground', 'led zeppelin', 'jimi hendrix', 'the kinks', 'the allman brothers band']\n"
          ],
          "name": "stdout"
        }
      ]
    },
    {
      "cell_type": "markdown",
      "metadata": {
        "id": "Fp3UBYjl6Bpo",
        "colab_type": "text"
      },
      "source": [
        "# **Print Top Music recommendations**"
      ]
    },
    {
      "cell_type": "code",
      "metadata": {
        "id": "JTey_FfT-Nev",
        "colab_type": "code",
        "colab": {}
      },
      "source": [
        "def removeTHE(artist_name):\n",
        "    if artist_name[0:3].lower()==\"the\":\n",
        "        return artist_name[3:]\n",
        "    return artist_name"
      ],
      "execution_count": 0,
      "outputs": []
    },
    {
      "cell_type": "code",
      "metadata": {
        "id": "23AuYTyP30IW",
        "colab_type": "code",
        "colab": {}
      },
      "source": [
        "def getMusicByArtistName(recommended_artists):\n",
        "    songList=[]\n",
        "    for idx,artist_name in enumerate(recommended_artists):\n",
        "        artist = lc.Artist(artist_name.title())\n",
        "        albumList = artist.get_album_list()\n",
        "        for song in albumList:\n",
        "            songList.append(str(song))\n",
        "    return songList"
      ],
      "execution_count": 0,
      "outputs": []
    },
    {
      "cell_type": "code",
      "metadata": {
        "id": "G74h0kTaDQ9b",
        "colab_type": "code",
        "colab": {
          "base_uri": "https://localhost:8080/",
          "height": 1000
        },
        "outputId": "a574c616-c8cf-4b03-f04a-83da22019633"
      },
      "source": [
        "songList = getMusicByArtistName(recommended_artists)\n",
        "for song in songList:\n",
        "    print(song)"
      ],
      "execution_count": 51,
      "outputs": [
        {
          "output_type": "stream",
          "text": [
            "Album(title=Music From Big Pink, artist=Artist(name=The Band))\n",
            "Album(title=The Band, artist=Artist(name=The Band))\n",
            "Album(title=Stage Fright, artist=Artist(name=The Band))\n",
            "Album(title=Cahoots, artist=Artist(name=The Band))\n",
            "Album(title=Rock Of Ages: The Band In Concert, artist=Artist(name=The Band))\n",
            "Album(title=Moondog Matinee, artist=Artist(name=The Band))\n",
            "Album(title=Northern Lights - Southern Cross, artist=Artist(name=The Band))\n",
            "Album(title=The Best Of The Band, artist=Artist(name=The Band))\n",
            "Album(title=Islands, artist=Artist(name=The Band))\n",
            "Album(title=Anthology, Volume I, artist=Artist(name=The Band))\n",
            "Album(title=The Last Waltz, artist=Artist(name=The Band))\n",
            "Album(title=Jericho, artist=Artist(name=The Band))\n",
            "Album(title=High On The Hog, artist=Artist(name=The Band))\n",
            "Album(title=Jubilation, artist=Artist(name=The Band))\n",
            "Album(title=The Last Waltz, artist=Artist(name=The Band))\n",
            "Album(title=The Grateful Dead, artist=Artist(name=Grateful Dead))\n",
            "Album(title=Anthem Of The Sun, artist=Artist(name=Grateful Dead))\n",
            "Album(title=Aoxomoxoa, artist=Artist(name=Grateful Dead))\n",
            "Album(title=Live/Dead, artist=Artist(name=Grateful Dead))\n",
            "Album(title=Workingman's Dead, artist=Artist(name=Grateful Dead))\n",
            "Album(title=American Beauty, artist=Artist(name=Grateful Dead))\n",
            "Album(title=Grateful Dead, artist=Artist(name=Grateful Dead))\n",
            "Album(title=Europe '72, artist=Artist(name=Grateful Dead))\n",
            "Album(title=History Of The Grateful Dead, Vol. 1, artist=Artist(name=Grateful Dead))\n",
            "Album(title=Wake Of The Flood, artist=Artist(name=Grateful Dead))\n",
            "Album(title=Grateful Dead From The Mars Hotel, artist=Artist(name=Grateful Dead))\n",
            "Album(title=Blues For Allah, artist=Artist(name=Grateful Dead))\n",
            "Album(title=Steal Your Face, artist=Artist(name=Grateful Dead))\n",
            "Album(title=Terrapin Station, artist=Artist(name=Grateful Dead))\n",
            "Album(title=Shakedown Street, artist=Artist(name=Grateful Dead))\n",
            "Album(title=Go To Heaven, artist=Artist(name=Grateful Dead))\n",
            "Album(title=Reckoning, artist=Artist(name=Grateful Dead))\n",
            "Album(title=In The Dark, artist=Artist(name=Grateful Dead))\n",
            "Album(title=Built To Last, artist=Artist(name=Grateful Dead))\n",
            "Album(title=Infrared Roses, artist=Artist(name=Grateful Dead))\n",
            "Album(title=Dozin' At The Knick: Knickerbocker Arena, artist=Artist(name=Grateful Dead))\n",
            "Album(title=Fallout From The Phil Zone, artist=Artist(name=Grateful Dead))\n",
            "Album(title=So Many Roads, artist=Artist(name=Grateful Dead))\n",
            "Album(title=Birth Of The Dead, artist=Artist(name=Grateful Dead))\n",
            "Album(title=Postcards Of The Hanging: Grateful Dead Perform The Songs Of Bob Dylan, artist=Artist(name=Grateful Dead))\n",
            "Album(title=Rare Cuts & Oddities 1966, artist=Artist(name=Grateful Dead))\n",
            "Album(title=Neil Young, artist=Artist(name=Neil Young))\n",
            "Album(title=Everybody Knows This Is Nowhere, artist=Artist(name=Neil Young))\n",
            "Album(title=After The Gold Rush, artist=Artist(name=Neil Young))\n",
            "Album(title=Journey Through The Past, artist=Artist(name=Neil Young))\n",
            "Album(title=Harvest, artist=Artist(name=Neil Young))\n",
            "Album(title=Time Fades Away, artist=Artist(name=Neil Young))\n",
            "Album(title=On The Beach, artist=Artist(name=Neil Young))\n",
            "Album(title=Zuma, artist=Artist(name=Neil Young))\n",
            "Album(title=Tonight's The Night, artist=Artist(name=Neil Young))\n",
            "Album(title=Long May You Run, artist=Artist(name=Neil Young))\n",
            "Album(title=American Stars 'n Bars, artist=Artist(name=Neil Young))\n",
            "Album(title=Decade, artist=Artist(name=Neil Young))\n",
            "Album(title=Comes A Time, artist=Artist(name=Neil Young))\n",
            "Album(title=Rust Never Sleeps, artist=Artist(name=Neil Young))\n",
            "Album(title=Live Rust, artist=Artist(name=Neil Young))\n",
            "Album(title=Hawks & Doves, artist=Artist(name=Neil Young))\n",
            "Album(title=Re-ac-tor, artist=Artist(name=Neil Young))\n",
            "Album(title=Trans, artist=Artist(name=Neil Young))\n",
            "Album(title=Everybody's Rockin', artist=Artist(name=Neil Young))\n",
            "Album(title=Old Ways, artist=Artist(name=Neil Young))\n",
            "Album(title=Landing On Water, artist=Artist(name=Neil Young))\n",
            "Album(title=Life, artist=Artist(name=Neil Young))\n",
            "Album(title=This Note's For You, artist=Artist(name=Neil Young))\n",
            "Album(title=Eldorado, artist=Artist(name=Neil Young))\n",
            "Album(title=Freedom, artist=Artist(name=Neil Young))\n",
            "Album(title=Ragged Glory, artist=Artist(name=Neil Young))\n",
            "Album(title=Weld, artist=Artist(name=Neil Young))\n",
            "Album(title=Harvest Moon, artist=Artist(name=Neil Young))\n",
            "Album(title=Lucky Thirteen, artist=Artist(name=Neil Young))\n",
            "Album(title=Unplugged, artist=Artist(name=Neil Young))\n",
            "Album(title=Sleeps With Angels, artist=Artist(name=Neil Young))\n",
            "Album(title=Mirror Ball, artist=Artist(name=Neil Young))\n",
            "Album(title=Broken Arrow, artist=Artist(name=Neil Young))\n",
            "Album(title=Dead Man, artist=Artist(name=Neil Young))\n",
            "Album(title=Year Of The Horse, artist=Artist(name=Neil Young))\n",
            "Album(title=Silver & Gold, artist=Artist(name=Neil Young))\n",
            "Album(title=Road Rock, Vol. 1, artist=Artist(name=Neil Young))\n",
            "Album(title=Are You Passionate?, artist=Artist(name=Neil Young))\n",
            "Album(title=Greendale, artist=Artist(name=Neil Young))\n",
            "Album(title=Prairie Wind, artist=Artist(name=Neil Young))\n",
            "Album(title=Living With War, artist=Artist(name=Neil Young))\n",
            "Album(title=Live At Massey Hall 1971, artist=Artist(name=Neil Young))\n",
            "Album(title=Chrome Dreams II, artist=Artist(name=Neil Young))\n",
            "Album(title=Sugar Mountain - Live At Canterbury House 1968, artist=Artist(name=Neil Young))\n",
            "Album(title=Fork In The Road, artist=Artist(name=Neil Young))\n",
            "Album(title=Dreamin' Man, artist=Artist(name=Neil Young))\n",
            "Album(title=Le Noise, artist=Artist(name=Neil Young))\n",
            "Album(title=A Treasure, artist=Artist(name=Neil Young))\n",
            "Album(title=Americana, artist=Artist(name=Neil Young))\n",
            "Album(title=Psychedelic Pill, artist=Artist(name=Neil Young))\n",
            "Album(title=A Letter Home, artist=Artist(name=Neil Young))\n",
            "Album(title=Storytone, artist=Artist(name=Neil Young))\n",
            "Album(title=The Monsanto Years, artist=Artist(name=Neil Young))\n",
            "Album(title=Bluenote Café, artist=Artist(name=Neil Young))\n",
            "Album(title=Earth, artist=Artist(name=Neil Young))\n",
            "Album(title=Peace Trail, artist=Artist(name=Neil Young))\n",
            "Album(title=Hitchhiker, artist=Artist(name=Neil Young))\n",
            "Album(title=The Visitor, artist=Artist(name=Neil Young))\n",
            "Album(title=Paradox, artist=Artist(name=Neil Young))\n",
            "Album(title=Songs For Judy, artist=Artist(name=Neil Young))\n",
            "Album(title=The Rolling Stones, artist=Artist(name=The Rolling Stones))\n",
            "Album(title=England's Newest Hit Makers, artist=Artist(name=The Rolling Stones))\n",
            "Album(title=12 X 5, artist=Artist(name=The Rolling Stones))\n",
            "Album(title=The Rolling Stones No. 2, artist=Artist(name=The Rolling Stones))\n",
            "Album(title=The Rolling Stones, Now!, artist=Artist(name=The Rolling Stones))\n",
            "Album(title=Out Of Our Heads, artist=Artist(name=The Rolling Stones))\n",
            "Album(title=December's Children, artist=Artist(name=The Rolling Stones))\n",
            "Album(title=Aftermath, artist=Artist(name=The Rolling Stones))\n",
            "Album(title=Got Live If You Want It!, artist=Artist(name=The Rolling Stones))\n",
            "Album(title=Between The Buttons, artist=Artist(name=The Rolling Stones))\n",
            "Album(title=Flowers, artist=Artist(name=The Rolling Stones))\n",
            "Album(title=Their Satanic Majesties Request, artist=Artist(name=The Rolling Stones))\n",
            "Album(title=Beggars Banquet, artist=Artist(name=The Rolling Stones))\n",
            "Album(title=Let It Bleed, artist=Artist(name=The Rolling Stones))\n",
            "Album(title=Get Yer Ya-Ya's Out!, artist=Artist(name=The Rolling Stones))\n",
            "Album(title=Sticky Fingers, artist=Artist(name=The Rolling Stones))\n",
            "Album(title=Exile On Main St., artist=Artist(name=The Rolling Stones))\n",
            "Album(title=More Hot Rocks, artist=Artist(name=The Rolling Stones))\n",
            "Album(title=Goats Head Soup, artist=Artist(name=The Rolling Stones))\n",
            "Album(title=It's Only Rock 'N Roll, artist=Artist(name=The Rolling Stones))\n",
            "Album(title=Metamorphosis, artist=Artist(name=The Rolling Stones))\n",
            "Album(title=Black And Blue, artist=Artist(name=The Rolling Stones))\n",
            "Album(title=Love You Live, artist=Artist(name=The Rolling Stones))\n",
            "Album(title=Some Girls, artist=Artist(name=The Rolling Stones))\n",
            "Album(title=Emotional Rescue, artist=Artist(name=The Rolling Stones))\n",
            "Album(title=\"Still Life\", artist=Artist(name=The Rolling Stones))\n",
            "Album(title=Tattoo You, artist=Artist(name=The Rolling Stones))\n",
            "Album(title=Undercover, artist=Artist(name=The Rolling Stones))\n",
            "Album(title=Dirty Work, artist=Artist(name=The Rolling Stones))\n",
            "Album(title=Steel Wheels, artist=Artist(name=The Rolling Stones))\n",
            "Album(title=Singles Collection: The London Years, artist=Artist(name=The Rolling Stones))\n",
            "Album(title=Flashpoint, artist=Artist(name=The Rolling Stones))\n",
            "Album(title=Voodoo Lounge, artist=Artist(name=The Rolling Stones))\n",
            "Album(title=Stripped, artist=Artist(name=The Rolling Stones))\n",
            "Album(title=The Rolling Stones Rock And Roll Circus, artist=Artist(name=The Rolling Stones))\n",
            "Album(title=Bridges To Babylon, artist=Artist(name=The Rolling Stones))\n",
            "Album(title=No Security, artist=Artist(name=The Rolling Stones))\n",
            "Album(title=Stereo Rarities, Volume 2, artist=Artist(name=The Rolling Stones))\n",
            "Album(title=Forty Licks, artist=Artist(name=The Rolling Stones))\n",
            "Album(title=Live Licks, artist=Artist(name=The Rolling Stones))\n",
            "Album(title=A Bigger Bang, artist=Artist(name=The Rolling Stones))\n",
            "Album(title=Rarities 1971-2003, artist=Artist(name=The Rolling Stones))\n",
            "Album(title=Shine A Light, artist=Artist(name=The Rolling Stones))\n",
            "Album(title=Genuine Black Box 1961-1974, artist=Artist(name=The Rolling Stones))\n",
            "Album(title=Some Girls: Live In Texas '78, artist=Artist(name=The Rolling Stones))\n",
            "Album(title=GRRR!, artist=Artist(name=The Rolling Stones))\n",
            "Album(title=Blue & Lonesome, artist=Artist(name=The Rolling Stones))\n",
            "Album(title=Please Please Me, artist=Artist(name=The Beatles))\n",
            "Album(title=With The Beatles, artist=Artist(name=The Beatles))\n",
            "Album(title=A Hard Day's Night, artist=Artist(name=The Beatles))\n",
            "Album(title=Beatles For Sale, artist=Artist(name=The Beatles))\n",
            "Album(title=Help!, artist=Artist(name=The Beatles))\n",
            "Album(title=Rubber Soul, artist=Artist(name=The Beatles))\n",
            "Album(title=Revolver, artist=Artist(name=The Beatles))\n",
            "Album(title=Sgt. Pepper's Lonely Hearts Club Band, artist=Artist(name=The Beatles))\n",
            "Album(title=Magical Mystery Tour, artist=Artist(name=The Beatles))\n",
            "Album(title=The Beatles, artist=Artist(name=The Beatles))\n",
            "Album(title=Yellow Submarine, artist=Artist(name=The Beatles))\n",
            "Album(title=Abbey Road, artist=Artist(name=The Beatles))\n",
            "Album(title=Let It Be, artist=Artist(name=The Beatles))\n",
            "Album(title=The Beatles' Christmas Album, artist=Artist(name=The Beatles))\n",
            "Album(title=Past Masters Volume One, artist=Artist(name=The Beatles))\n",
            "Album(title=Past Masters Volume Two, artist=Artist(name=The Beatles))\n",
            "Album(title=Live At The BBC, artist=Artist(name=The Beatles))\n",
            "Album(title=Oldies, artist=Artist(name=The Beatles))\n",
            "Album(title=Real Love, artist=Artist(name=The Beatles))\n",
            "Album(title=Let It Be... Naked, artist=Artist(name=The Beatles))\n",
            "Album(title=Love, artist=Artist(name=The Beatles))\n",
            "Album(title=The Velvet Underground & Nico, artist=Artist(name=The Velvet Underground))\n",
            "Album(title=White Light/White Heat, artist=Artist(name=The Velvet Underground))\n",
            "Album(title=The Velvet Underground, artist=Artist(name=The Velvet Underground))\n",
            "Album(title=Loaded, artist=Artist(name=The Velvet Underground))\n",
            "Album(title=Live At Max's Kansas City, artist=Artist(name=The Velvet Underground))\n",
            "Album(title=Squeeze, artist=Artist(name=The Velvet Underground))\n",
            "Album(title=1969: Velvet Underground Live With Lou Reed, artist=Artist(name=The Velvet Underground))\n",
            "Album(title=VU, artist=Artist(name=The Velvet Underground))\n",
            "Album(title=Another View, artist=Artist(name=The Velvet Underground))\n",
            "Album(title=Live MCMXCIII, artist=Artist(name=The Velvet Underground))\n",
            "Album(title=Peel Slowly And See, artist=Artist(name=The Velvet Underground))\n",
            "Album(title=Led Zeppelin, artist=Artist(name=Led Zeppelin))\n",
            "Album(title=Led Zeppelin II, artist=Artist(name=Led Zeppelin))\n",
            "Album(title=Led Zeppelin III, artist=Artist(name=Led Zeppelin))\n",
            "Album(title=Led Zeppelin IV, artist=Artist(name=Led Zeppelin))\n",
            "Album(title=Houses Of The Holy, artist=Artist(name=Led Zeppelin))\n",
            "Album(title=Physical Graffiti, artist=Artist(name=Led Zeppelin))\n",
            "Album(title=Presence, artist=Artist(name=Led Zeppelin))\n",
            "Album(title=The Song Remains The Same, artist=Artist(name=Led Zeppelin))\n",
            "Album(title=In Through The Out Door, artist=Artist(name=Led Zeppelin))\n",
            "Album(title=Coda, artist=Artist(name=Led Zeppelin))\n",
            "Album(title=BBC Sessions, artist=Artist(name=Led Zeppelin))\n",
            "Album(title=How The West Was Won, artist=Artist(name=Led Zeppelin))\n",
            "Album(title=Band Of Gypsys, artist=Artist(name=Jimi Hendrix))\n",
            "Album(title=The Cry Of Love, artist=Artist(name=Jimi Hendrix))\n",
            "Album(title=Rainbow Bridge, artist=Artist(name=Jimi Hendrix))\n",
            "Album(title=War Heroes, artist=Artist(name=Jimi Hendrix))\n",
            "Album(title=Loose Ends, artist=Artist(name=Jimi Hendrix))\n",
            "Album(title=Crash Landing, artist=Artist(name=Jimi Hendrix))\n",
            "Album(title=Midnight Lightning, artist=Artist(name=Jimi Hendrix))\n",
            "Album(title=Nine To The Universe, artist=Artist(name=Jimi Hendrix))\n",
            "Album(title=Doriella Du Fontaine, artist=Artist(name=Jimi Hendrix))\n",
            "Album(title=The Ultimate Experience, artist=Artist(name=Jimi Hendrix))\n",
            "Album(title=Blues, artist=Artist(name=Jimi Hendrix))\n",
            "Album(title=Voodoo Soup, artist=Artist(name=Jimi Hendrix))\n",
            "Album(title=First Rays Of The New Rising Sun, artist=Artist(name=Jimi Hendrix))\n",
            "Album(title=South Saturn Delta, artist=Artist(name=Jimi Hendrix))\n",
            "Album(title=Live At The Fillmore East, artist=Artist(name=Jimi Hendrix))\n",
            "Album(title=Live At Woodstock, artist=Artist(name=Jimi Hendrix))\n",
            "Album(title=Valleys Of Neptune, artist=Artist(name=Jimi Hendrix))\n",
            "Album(title=People, Hell And Angels, artist=Artist(name=Jimi Hendrix))\n",
            "Album(title=Both Sides Of The Sky, artist=Artist(name=Jimi Hendrix))\n",
            "Album(title=Kinks, artist=Artist(name=The Kinks))\n",
            "Album(title=Kinda Kinks, artist=Artist(name=The Kinks))\n",
            "Album(title=Kinks-Size, artist=Artist(name=The Kinks))\n",
            "Album(title=Kinkdom, artist=Artist(name=The Kinks))\n",
            "Album(title=The Kink Kontroversy, artist=Artist(name=The Kinks))\n",
            "Album(title=Face To Face, artist=Artist(name=The Kinks))\n",
            "Album(title=Something Else By The Kinks, artist=Artist(name=The Kinks))\n",
            "Album(title=Live At Kelvin Hall, artist=Artist(name=The Kinks))\n",
            "Album(title=The Kinks Are The Village Green Preservation Society, artist=Artist(name=The Kinks))\n",
            "Album(title=Arthur, artist=Artist(name=The Kinks))\n",
            "Album(title=Lola Versus Powerman And The Moneygoround, Part One, artist=Artist(name=The Kinks))\n",
            "Album(title=Percy, artist=Artist(name=The Kinks))\n",
            "Album(title=Muswell Hillbillies, artist=Artist(name=The Kinks))\n",
            "Album(title=The Kink Kronikles, artist=Artist(name=The Kinks))\n",
            "Album(title=Everybody's In Show-Biz, artist=Artist(name=The Kinks))\n",
            "Album(title=The Great Lost Kinks Album, artist=Artist(name=The Kinks))\n",
            "Album(title=Preservation Act 1, artist=Artist(name=The Kinks))\n",
            "Album(title=Preservation Act 2, artist=Artist(name=The Kinks))\n",
            "Album(title=Soap Opera, artist=Artist(name=The Kinks))\n",
            "Album(title=Schoolboys In Disgrace, artist=Artist(name=The Kinks))\n",
            "Album(title=Sleepwalker, artist=Artist(name=The Kinks))\n",
            "Album(title=Misfits, artist=Artist(name=The Kinks))\n",
            "Album(title=Low Budget, artist=Artist(name=The Kinks))\n",
            "Album(title=One For The Road, artist=Artist(name=The Kinks))\n",
            "Album(title=Give The People What They Want, artist=Artist(name=The Kinks))\n",
            "Album(title=State Of Confusion, artist=Artist(name=The Kinks))\n",
            "Album(title=Word Of Mouth, artist=Artist(name=The Kinks))\n",
            "Album(title=Think Visual, artist=Artist(name=The Kinks))\n",
            "Album(title=Come Dancing With The Kinks, artist=Artist(name=The Kinks))\n",
            "Album(title=Live: The Road, artist=Artist(name=The Kinks))\n",
            "Album(title=UK Jive, artist=Artist(name=The Kinks))\n",
            "Album(title=Lost & Found, artist=Artist(name=The Kinks))\n",
            "Album(title=Phobia, artist=Artist(name=The Kinks))\n",
            "Album(title=Waterloo Sunset '94, artist=Artist(name=The Kinks))\n",
            "Album(title=To The Bone, artist=Artist(name=The Kinks))\n",
            "Album(title=The Singles Collection, artist=Artist(name=The Kinks))\n",
            "Album(title=BBC Sessions 1964-1977, artist=Artist(name=The Kinks))\n",
            "Album(title=The Allman Brothers Band, artist=Artist(name=The Allman Brothers Band))\n",
            "Album(title=Idlewild South, artist=Artist(name=The Allman Brothers Band))\n",
            "Album(title=At Fillmore East, artist=Artist(name=The Allman Brothers Band))\n",
            "Album(title=Eat A Peach, artist=Artist(name=The Allman Brothers Band))\n",
            "Album(title=Brothers And Sisters, artist=Artist(name=The Allman Brothers Band))\n",
            "Album(title=Win, Lose Or Draw, artist=Artist(name=The Allman Brothers Band))\n",
            "Album(title=Wipe The Windows, Check The Oil, Dollar Gas, artist=Artist(name=The Allman Brothers Band))\n",
            "Album(title=Enlightened Rogues, artist=Artist(name=The Allman Brothers Band))\n",
            "Album(title=Reach For The Sky, artist=Artist(name=The Allman Brothers Band))\n",
            "Album(title=Brothers Of The Road, artist=Artist(name=The Allman Brothers Band))\n",
            "Album(title=Dreams, artist=Artist(name=The Allman Brothers Band))\n",
            "Album(title=Seven Turns, artist=Artist(name=The Allman Brothers Band))\n",
            "Album(title=Shades Of Two Worlds, artist=Artist(name=The Allman Brothers Band))\n",
            "Album(title=An Evening With The Allman Brothers Band: First Set, artist=Artist(name=The Allman Brothers Band))\n",
            "Album(title=Where It All Begins, artist=Artist(name=The Allman Brothers Band))\n",
            "Album(title=An Evening With The Allman Brothers Band: 2nd Set, artist=Artist(name=The Allman Brothers Band))\n",
            "Album(title=Peakin' At The Beacon, artist=Artist(name=The Allman Brothers Band))\n",
            "Album(title=Hittin' The Note, artist=Artist(name=The Allman Brothers Band))\n",
            "Album(title=One Way Out, artist=Artist(name=The Allman Brothers Band))\n"
          ],
          "name": "stdout"
        }
      ]
    },
    {
      "cell_type": "markdown",
      "metadata": {
        "id": "-b5BS7bHrDCv",
        "colab_type": "text"
      },
      "source": [
        "# **Playlist shuffling**"
      ]
    },
    {
      "cell_type": "markdown",
      "metadata": {
        "id": "hqQP_NgYvQMs",
        "colab_type": "text"
      },
      "source": [
        "## **Fisher Yates**"
      ]
    },
    {
      "cell_type": "code",
      "metadata": {
        "id": "DQDZBDeYrN54",
        "colab_type": "code",
        "colab": {}
      },
      "source": [
        "def Fisher_yates(songList):\n",
        "    import random \n",
        "    for i in range(len(songList)-1, 0, -1): \n",
        "        j = random.randint(0, i + 1)  \n",
        "        if(j>=len(songList) or i>=len(songList)):\n",
        "             print(\"NOT GOOD\")\n",
        "        songList[i], songList[j] = songList[j], songList[i]  \n",
        "    return songList"
      ],
      "execution_count": 0,
      "outputs": []
    },
    {
      "cell_type": "code",
      "metadata": {
        "id": "qja1kVRXs1_g",
        "colab_type": "code",
        "outputId": "feb62d05-b0f9-4f40-eeb7-ae791499447a",
        "colab": {
          "base_uri": "https://localhost:8080/",
          "height": 357
        }
      },
      "source": [
        "songList_acc_to_fisher_yates = Fisher_yates(songList)[:10]\n",
        "for idx,row in enumerate(songList_acc_to_fisher_yates):\n",
        "    print(str(idx)+\" : \"+row+\"\\n\")\n",
        "# print(songList_acc_to_fisher_yates)"
      ],
      "execution_count": 55,
      "outputs": [
        {
          "output_type": "stream",
          "text": [
            "0 : Album(title=Dreams, artist=Artist(name=The Allman Brothers Band))\n",
            "\n",
            "1 : Album(title=Muswell Hillbillies, artist=Artist(name=The Kinks))\n",
            "\n",
            "2 : Album(title=Wipe The Windows, Check The Oil, Dollar Gas, artist=Artist(name=The Allman Brothers Band))\n",
            "\n",
            "3 : Album(title=The Ultimate Experience, artist=Artist(name=Jimi Hendrix))\n",
            "\n",
            "4 : Album(title=History Of The Grateful Dead, Vol. 1, artist=Artist(name=Grateful Dead))\n",
            "\n",
            "5 : Album(title=Forty Licks, artist=Artist(name=The Rolling Stones))\n",
            "\n",
            "6 : Album(title=Seven Turns, artist=Artist(name=The Allman Brothers Band))\n",
            "\n",
            "7 : Album(title=The Allman Brothers Band, artist=Artist(name=The Allman Brothers Band))\n",
            "\n",
            "8 : Album(title=Schoolboys In Disgrace, artist=Artist(name=The Kinks))\n",
            "\n",
            "9 : Album(title=Dead Man, artist=Artist(name=Neil Young))\n",
            "\n"
          ],
          "name": "stdout"
        }
      ]
    },
    {
      "cell_type": "markdown",
      "metadata": {
        "id": "RoL9PrwYvbrB",
        "colab_type": "text"
      },
      "source": [
        "## **Etilist Shuffling**"
      ]
    },
    {
      "cell_type": "code",
      "metadata": {
        "id": "X8ER1mkzvhfx",
        "colab_type": "code",
        "colab": {}
      },
      "source": [
        "def Etilist_Shuffle(items,inequality):\n",
        "    weights = np.power(np.linspace(1, 0, num=len(items), endpoint=False),inequality)\n",
        "    weights = weights / np.linalg.norm(weights, ord=1)\n",
        "    return np.random.choice(items, size=len(items), replace=False, p=weights)"
      ],
      "execution_count": 0,
      "outputs": []
    },
    {
      "cell_type": "code",
      "metadata": {
        "id": "GATOL1XABkcK",
        "colab_type": "code",
        "outputId": "11d5043a-58f6-43b7-cfff-15e7684d7f9d",
        "colab": {
          "base_uri": "https://localhost:8080/",
          "height": 357
        }
      },
      "source": [
        "inequality=5\n",
        "songList = Etilist_Shuffle(songList,inequality)[:10]\n",
        "for idx,row in enumerate(songList):\n",
        "    print(str(idx)+\" : \"+row+\"\\n\")"
      ],
      "execution_count": 56,
      "outputs": [
        {
          "output_type": "stream",
          "text": [
            "0 : Album(title=Low Budget, artist=Artist(name=The Kinks))\n",
            "\n",
            "1 : Album(title=Cahoots, artist=Artist(name=The Band))\n",
            "\n",
            "2 : Album(title=The Rolling Stones, artist=Artist(name=The Rolling Stones))\n",
            "\n",
            "3 : Album(title=Time Fades Away, artist=Artist(name=Neil Young))\n",
            "\n",
            "4 : Album(title=Hitchhiker, artist=Artist(name=Neil Young))\n",
            "\n",
            "5 : Album(title=December's Children, artist=Artist(name=The Rolling Stones))\n",
            "\n",
            "6 : Album(title=Sleepwalker, artist=Artist(name=The Kinks))\n",
            "\n",
            "7 : Album(title=Some Girls: Live In Texas '78, artist=Artist(name=The Rolling Stones))\n",
            "\n",
            "8 : Album(title=Led Zeppelin, artist=Artist(name=Led Zeppelin))\n",
            "\n",
            "9 : Album(title=Wipe The Windows, Check The Oil, Dollar Gas, artist=Artist(name=The Allman Brothers Band))\n",
            "\n"
          ],
          "name": "stdout"
        }
      ]
    },
    {
      "cell_type": "markdown",
      "metadata": {
        "id": "guJmE34vzYeH",
        "colab_type": "text"
      },
      "source": [
        "# **Stay Safe**"
      ]
    }
  ]
}